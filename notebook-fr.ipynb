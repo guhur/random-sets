{
 "cells": [
  {
   "cell_type": "markdown",
   "metadata": {},
   "source": [
    "# Système de vote à lots aléatoires :\n",
    "Références:\n",
    "- How To Hold A Vote When Candidates Are Too Many ? A Scalable And Random-Based Election.\n",
    "*Guhur et al.*\n",
    "- article Medium\n",
    "- Git repository: https://github.com/plguhur/random-sets\n",
    "\n",
    "## Introduction\n",
    "Plus nombreux sont les candidats à se présenter à l'élection, et plus l'on peut s'attendre à un meilleur résultat. Dans la pratique, les systèmes de vote actuels ne le permettent pas, car plusieurs filtres (médias, notoriété, biais cognitifs) ne permettent qu'à une poignée de candidats d'émerger. \n",
    "\n",
    "Le vote à lots aléatoires résoud cette problématique, en ne demandant aux électeurs de ne voter que un lot de candidats. Les lots sont tirés aléatoirement pour chaque candidat, puis les votes sont agrégés. \n",
    "\n",
    "Pour que le résultat ne soit pas biaisé, on veut que le vote respecte trois critères :\n",
    "1. Chaque candidat doit apparaitre autant de fois que les autres à une certaine marge d'erreur prête (il faut que le coefficient de variation du nombre d'apparition des candidats dans chaque lot soit inférieur à $\\epsilon_1$).\n",
    "2.\tChaque candidat doit être confronté autant de fois à n’importe quel autre candidat à une certaine marge d'erreur prête (il faut que le coefficient de variation du nombre d'opposition d'un candidat par rapport à un autre soit inférieur à $\\epsilon_2$).\n",
    "3.\tLe résultat de l’élection doit être le même que si l’élection se déroulait selon des conditions parfaites (pas de manipulations, pas d’erreurs de partialité). Les différences de résultat dépendent du nombre $Nwinners$ de vainqueurs à l’élection : il n’y en a pas forcément qu’un seul, surtout dans le cas d’un second tour. On veut que l'erreur moyenne entre l'élection parfaite et l'élection à lots aléatoires soit inférieure à $\\epsilon_3$.\n",
    "\n",
    "On pose $\\epsilon_i = 0.1$."
   ]
  },
  {
   "cell_type": "code",
   "execution_count": 1,
   "metadata": {
    "collapsed": false
   },
   "outputs": [],
   "source": [
    "import numpy as np\n",
    "import matplotlib.pyplot as plt\n",
    "from matplotlib import rc\n",
    "import matplotlib\n",
    "matplotlib.rcParams['text.usetex'] = True\n",
    "matplotlib.rcParams['text.latex.unicode'] = True\n",
    "rc('font',**{'family':'serif','serif':['Times']})\n",
    "# %matplotlib inline\n",
    "%matplotlib osx\n",
    "import scipy.stats\n",
    "import sys"
   ]
  },
  {
   "cell_type": "markdown",
   "metadata": {},
   "source": [
    "L'algorithme pour construire les lots dépend de $\\alpha$ :\n",
    "1. compter le nombre d’occurences $Noccurences$ pour chaque candidat $i$ dans les lots précédents ;\n",
    "2. construire un tableau qui attribut à candidat $i$ la valeur $1/Noccurences^\\alpha$ si $Noccurences \\neq 0$  et $1$ sinon ;\n",
    "3. normaliser ce tableau en le divisant par la somme de chacune de ses cases ;\n",
    "4. ce tableau forme la probabilité qu’à un candidat d’être choisi dans le prochain lot."
   ]
  },
  {
   "cell_type": "code",
   "execution_count": 2,
   "metadata": {
    "collapsed": false
   },
   "outputs": [],
   "source": [
    "# this function builds a random subset\n",
    "# occurrences must an np.array with dtype=float\n",
    "def subset(Ncandidates, Nsubset, occurrences, alpha = 1.0):\n",
    "    proba_candidat = np.array([1/(j**alpha) if j != 0 else 1 for j in occurrences])\n",
    "    proba_candidat = proba_candidat / float(sum(proba_candidat))\n",
    "    lot = np.random.choice(Ncandidates, size=Nsubset, replace=False, p=proba_candidat)\n",
    "    occurrences[lot] += 1\n",
    "    return lot"
   ]
  },
  {
   "cell_type": "markdown",
   "metadata": {},
   "source": [
    "## Validation de la première condition\n",
    "Voyons si la première condition est vérifiée en faisant varier le nombre d'électeurs et $\\alpha$. $q$ est le pas d'échantillons."
   ]
  },
  {
   "cell_type": "code",
   "execution_count": null,
   "metadata": {
    "collapsed": false
   },
   "outputs": [],
   "source": [
    "Ncandidates= 100\n",
    "Nvoters = 50000\n",
    "q  = 1000\n",
    "alpha = [1, 2, 3, 10]\n",
    "occurrences = np.zeros(Ncandidates, dtype=float)\n",
    "rsm = np.zeros((int(Nvoters/q), len(alpha)))\n",
    "Nsubset = 5\n",
    "for j in range(len(alpha)):\n",
    "    for i in range(Nvoters):\n",
    "        lot = subset(Ncandidates, Nsubset, occurrences, alpha[j])\n",
    "        if i % q == 0:\n",
    "             rsm[int(i/q),j] = scipy.stats.variation(occurrences)\n",
    "                \n",
    "for j in range(len(alpha)):\n",
    "    plt.loglog(range(q,Nvoters, q), rsm[1:, j],label=\"$\\\\alpha=%d$\" % alpha[j])\n",
    "plt.xlabel(\"Number of voters\")\n",
    "plt.ylabel(\"Coefficient of variation\")\n",
    "plt.legend()\n",
    "plt.show()"
   ]
  },
  {
   "cell_type": "markdown",
   "metadata": {},
   "source": [
    "Le coefficient de variation dépend également du nombre de candidats :"
   ]
  },
  {
   "cell_type": "code",
   "execution_count": null,
   "metadata": {
    "collapsed": false
   },
   "outputs": [],
   "source": [
    "candidates= range(10,100, 2)\n",
    "q  = 10\n",
    "voters = range(0,1001, q)\n",
    "Nvoters = max(voters)\n",
    "rsm = np.zeros((len(candidates), len(voters)))\n",
    "Nsubset = 5\n",
    "epsilon_1 = 0.1\n",
    "for j in range(len(candidates)):\n",
    "    c = candidates[j]\n",
    "    occurrences = np.zeros(candidates[j])\n",
    "    for i in range(Nvoters+1):\n",
    "        lot = subset(candidates[j], Nsubset, occurrences)\n",
    "        if i % q == 0:\n",
    "            rsm[j, int(i/q)] = min(scipy.stats.variation(occurrences), 0.1)"
   ]
  },
  {
   "cell_type": "code",
   "execution_count": null,
   "metadata": {
    "collapsed": false
   },
   "outputs": [],
   "source": [
    "from matplotlib import cm\n",
    "fig = plt.figure()\n",
    "plt.pcolor(rsm[:,1:], cmap=cm.plasma)\n",
    "plt.colorbar()\n",
    "plt.ylabel('Candidates')\n",
    "plt.xlabel('Voters')\n",
    "# plt.yticks(range(len(candidates)), candidates)\n",
    "# plt.xticks(range(len(voters)), voters[1:], rotation='vertical')\n",
    "plt.show()"
   ]
  },
  {
   "cell_type": "markdown",
   "metadata": {},
   "source": [
    "Il faut donc aussi regarder comment varie le coefficient de variation avec le nombre de candidats et $\\alpha$."
   ]
  },
  {
   "cell_type": "code",
   "execution_count": null,
   "metadata": {
    "collapsed": true
   },
   "outputs": [],
   "source": [
    "candidates= range(10,100, 20)\n",
    "Ncandidates = max(candidates)\n",
    "alphas = [1, 3, 10]\n",
    "Nvoters = 10000\n",
    "cv_alpha_c_1 = np.zeros((len(candidates), len(alphas)))\n",
    "Nsubset = 5\n",
    "for l in range(len(alphas)):\n",
    "    for j in range(len(candidates)):\n",
    "        occurrences = np.zeros(candidates[j])\n",
    "        for i in range(Nvoters+1):\n",
    "            lot = subset(candidates[j], Nsubset, occurrences, alphas[l])\n",
    "        cv_alpha_c_1[j, l] = scipy.stats.variation(occurrences)"
   ]
  },
  {
   "cell_type": "code",
   "execution_count": null,
   "metadata": {
    "collapsed": false
   },
   "outputs": [],
   "source": [
    "for j in range(len(alphas)):\n",
    "    plt.loglog(candidates, cv_alpha_c_1[:, j],label=\"$\\\\alpha=%d$\" % alphas[j])\n",
    "plt.xlabel(\"Number of candidates\")\n",
    "plt.ylabel(\"Coefficient of variation\")\n",
    "plt.legend()\n",
    "plt.show()"
   ]
  },
  {
   "cell_type": "markdown",
   "metadata": {},
   "source": [
    "## Seconde condition\n",
    "Concernant la seconde condition, on calcule la matrice $corr$ qui contient le nombre de fois qu'un candidat est opposé à un autre. Ici avec 100 candidats, $\\alpha$=3 et 50k électeurs :"
   ]
  },
  {
   "cell_type": "code",
   "execution_count": null,
   "metadata": {
    "collapsed": false
   },
   "outputs": [],
   "source": [
    "Nvoters = 50000\n",
    "Ncandidates = 100\n",
    "Nsubset = 5\n",
    "alpha = 3\n",
    "corr = np.zeros((Ncandidates,Ncandidates))\n",
    "occurrences = np.zeros(Ncandidates)\n",
    "for i in range(Nvoters):\n",
    "        lot     = subset(Ncandidates, Nsubset, occurrences, alpha)\n",
    "        for j in lot:\n",
    "            corr[j,lot] += 1\n",
    "            "
   ]
  },
  {
   "cell_type": "code",
   "execution_count": null,
   "metadata": {
    "collapsed": false
   },
   "outputs": [],
   "source": [
    "plt.pcolor(corr)\n",
    "plt.colorbar()\n",
    "plt.ylabel('Candidates')\n",
    "plt.xlabel('Candidates')\n",
    "plt.yticks(np.arange(0.5,Ncandidates + .5, 10),range(0,Ncandidates, 10))\n",
    "plt.xticks(np.arange(0.5,Ncandidates + .5, 10),range(0,Ncandidates, 10))\n",
    "plt.show()"
   ]
  },
  {
   "cell_type": "markdown",
   "metadata": {},
   "source": [
    "La diagonale a les points les plus forts, car un candidat est sur de se rencontrer avec lui-même ! En revanche, le reste de la matrice semble bien uniforme. Regardons comment varie le  coefficient de variation entre deux candidats pour différents nombres d'électeurs et de candidats."
   ]
  },
  {
   "cell_type": "code",
   "execution_count": null,
   "metadata": {
    "collapsed": false
   },
   "outputs": [],
   "source": [
    "candidates= range(10,100, 2)\n",
    "Ncandidates = max(candidates)\n",
    "q  = 1000\n",
    "Nvoters = 1000\n",
    "alphas = range(1, 25)\n",
    "rsm = np.zeros((len(candidates), len(alphas)))\n",
    "Nsubset = 5\n",
    "for j in range(len(candidates)):\n",
    "    occurrences = np.zeros(candidates[j])\n",
    "    corr = np.zeros((candidates[j],candidates[j]))\n",
    "    for i in range(len(alphas)):\n",
    "        for _ in range(Nvoters):\n",
    "            lot = subset(candidates[j], Nsubset, occurrences, alpha=alphas[i])\n",
    "            for k in lot:\n",
    "                corr[k,lot] += 1\n",
    "        tri = corr[np.triu_indices(candidates[j], 1)]\n",
    "        rsm[j, i] = scipy.stats.variation(tri)"
   ]
  },
  {
   "cell_type": "code",
   "execution_count": null,
   "metadata": {
    "collapsed": false
   },
   "outputs": [],
   "source": [
    "from matplotlib import cm\n",
    "fig = plt.figure()\n",
    "plt.pcolor(rsm[:,:], cmap=cm.plasma)\n",
    "plt.colorbar()\n",
    "plt.ylabel('Candidates')\n",
    "plt.xlabel('$\\\\alpha$')\n",
    "plt.yticks(range(len(candidates)), candidates)\n",
    "plt.xticks(range(1,len(alphas),2), alphas[::2])\n",
    "plt.show()"
   ]
  },
  {
   "cell_type": "markdown",
   "metadata": {},
   "source": [
    "Coefficient de variation selon Ncandidates et Nvoters"
   ]
  },
  {
   "cell_type": "code",
   "execution_count": null,
   "metadata": {
    "collapsed": false
   },
   "outputs": [],
   "source": [
    "candidates= range(10,41, 1)\n",
    "Ncandidates = max(candidates)\n",
    "q  = 100\n",
    "Nvoters = 6000\n",
    "alpha = 2\n",
    "req2_cv = np.zeros((int(Nvoters/q)+1, len(candidates)))\n",
    "Nsubset = 5\n",
    "eps_2 = 0.1\n",
    "for j in range(len(candidates)):\n",
    "    occurrences = np.zeros(candidates[j])\n",
    "    corr = np.zeros((candidates[j],candidates[j]))\n",
    "    for i in range(Nvoters+1):\n",
    "        lot = subset(candidates[j], Nsubset, occurrences, alpha=alpha)\n",
    "        for k in lot:\n",
    "            corr[k,lot] += 1\n",
    "        if i % q == 0:\n",
    "            tri = corr[np.triu_indices(candidates[j], 1)]\n",
    "            req2_cv[int(i/q),j] = min(scipy.stats.variation(tri), eps_2)"
   ]
  },
  {
   "cell_type": "code",
   "execution_count": null,
   "metadata": {
    "collapsed": false
   },
   "outputs": [],
   "source": [
    "from matplotlib import cm\n",
    "fig = plt.figure()\n",
    "plt.pcolor(np.transpose(req2_cv), cmap=cm.plasma)\n",
    "plt.colorbar()\n",
    "plt.xlabel('Voters')\n",
    "plt.ylabel('Candidates')\n",
    "plt.xlim((0,60))\n",
    "plt.ylim((0,31))\n",
    "plt.yticks(range(1,len(candidates)+1,3), candidates[::3])\n",
    "voters = range(0,Nvoters+1,q)\n",
    "plt.xticks(range(1,len(voters)+1,6), voters[::6], rotation='vertical')\n",
    "plt.show()"
   ]
  },
  {
   "cell_type": "code",
   "execution_count": null,
   "metadata": {
    "collapsed": false
   },
   "outputs": [],
   "source": [
    "print len(range(1,int(Nvoters/q)))\n",
    "print len(alphas[::q])"
   ]
  },
  {
   "cell_type": "markdown",
   "metadata": {},
   "source": [
    "On remarque que les variations du nombre d'électeurs sont négligeables devant les variations du nombre de candidats aux ordres de grandeurs choisis. Quel est l'impact de $\\alpha$?"
   ]
  },
  {
   "cell_type": "code",
   "execution_count": null,
   "metadata": {
    "collapsed": false
   },
   "outputs": [],
   "source": [
    "candidates= range(10,100, 10)\n",
    "Ncandidates = max(candidates)\n",
    "q  = 1000\n",
    "alphas = [1, 3, 10]\n",
    "Nvoters = 30000\n",
    "rsm = np.zeros((len(candidates), len(alphas)))\n",
    "Nsubset = 5\n",
    "for l in range(len(alphas)):\n",
    "    for j in range(len(candidates)):\n",
    "        occurrences = np.zeros(candidates[j])\n",
    "        corr = np.zeros((candidates[j],candidates[j]))\n",
    "        for i in range(Nvoters+1):\n",
    "            lot = subset(candidates[j], Nsubset, occurrences, alphas[l])\n",
    "            for k in lot:\n",
    "                corr[k,lot] += 1\n",
    "        tri = corr[np.triu_indices(candidates[j], -1)]\n",
    "        rsm[j, l] = scipy.stats.variation(tri)"
   ]
  },
  {
   "cell_type": "code",
   "execution_count": null,
   "metadata": {
    "collapsed": false
   },
   "outputs": [],
   "source": [
    "for j in range(len(alphas)):\n",
    "    plt.loglog(candidates, rsm[:, j],label=\"$\\\\alpha=%d$\" % alphas[j])\n",
    "plt.xlabel(\"Number of candidates\")\n",
    "plt.ylabel(\"Coefficient of variation\")\n",
    "plt.legend()\n",
    "plt.show()"
   ]
  },
  {
   "cell_type": "code",
   "execution_count": null,
   "metadata": {
    "collapsed": false
   },
   "outputs": [],
   "source": [
    "Ncandidates = 50\n",
    "q  = 1000\n",
    "alphas = [1, 3, 10]\n",
    "Nvoters = 30000\n",
    "cv2_av = np.zeros((int(Nvoters/q)+1, len(alphas)))\n",
    "Nsubset = 5\n",
    "for l in range(len(alphas)):\n",
    "    occurrences = np.zeros(Ncandidates)\n",
    "    corr = np.zeros((Ncandidates,Ncandidates))\n",
    "    for i in range(Nvoters+1):\n",
    "        lot = subset(Ncandidates, Nsubset, occurrences, alphas[l])\n",
    "        for k in lot:\n",
    "            corr[k,lot] += 1\n",
    "        if i % q == 0:\n",
    "            tri = corr[np.triu_indices(Ncandidates, -1)]\n",
    "            cv2_av[int(i/q),l] = scipy.stats.variation(tri)"
   ]
  },
  {
   "cell_type": "code",
   "execution_count": null,
   "metadata": {
    "collapsed": false
   },
   "outputs": [],
   "source": [
    "for j in range(len(alphas)):\n",
    "    plt.loglog(range(q, Nvoters+1, q), cv2_av[1:, j],label=\"$\\\\alpha=%d$\" % alphas[j])\n",
    "plt.xlabel(\"Number of voters\")\n",
    "plt.ylabel(\"Coefficient of variation\")\n",
    "plt.legend()\n",
    "plt.show()"
   ]
  },
  {
   "cell_type": "markdown",
   "metadata": {},
   "source": [
    "On retrouve une faible variation du coefficient de variation lorsque le nombre de candidats, et ce pour différentes valeurs de $\\alpha$. \n",
    "\n",
    "Finalement, on peut donc choisir $\\alpha$ de sorte à respecter $\\epsilon_1$ et $\\epsilon_2$ selon un nombre fixé de candidats et d'électeurs. On veut également avoir $\\alpha$ aussi faible que possible pour avoir la distribution la plus aléatoire possible. La fonction **findMinAlpha** calcule itérativement $\\alpha$."
   ]
  },
  {
   "cell_type": "code",
   "execution_count": 38,
   "metadata": {
    "collapsed": false
   },
   "outputs": [],
   "source": [
    "def computeAlpha(Ncandidates, Nvoters, Ntests, Nsubset, alpha):\n",
    "    err_samples = np.zeros(Ntests, dtype=int)\n",
    "    for t in range(Ntests):\n",
    "#         sys.stdout.write(\"\\rTest: %i/%i (%i %%)\" % (t+1, Ntests, float(t)/float(Ntests)*100.0))\n",
    "        occurrences = np.zeros(Ncandidates)\n",
    "        cv2_samples = np.zeros(Ntests)\n",
    "        cv1_samples = np.zeros(Ntests)\n",
    "        corr = np.zeros((Ncandidates,Ncandidates))\n",
    "        for i in range(Nvoters+1):\n",
    "            lot     = subset(Ncandidates, Nsubset, occurrences, alpha)\n",
    "            for k in lot:\n",
    "                corr[k,lot] += 1\n",
    "        tri = corr[np.triu_indices(Ncandidates, -1)]\n",
    "        cv2_samples[t] = scipy.stats.variation(tri)\n",
    "        cv1_samples[t] = scipy.stats.variation(occurrences)\n",
    "    req1 = np.mean(cv1_samples, axis=0)\n",
    "    req2 = np.mean(cv1_samples, axis=0)\n",
    "    return (req1, req2)\n",
    "\n",
    "def findMinAlpha(Ncandidates, Nvoters, Ntests = 100, Nsubset = 5, q = 1, alphaMin = 1, alphaMax = 100, epsilon1=0.1, epsilon2=0.1):\n",
    "    alpha = alphaMin\n",
    "    alpha_old = alpha\n",
    "    error1 = epsilon1 + 1\n",
    "    error2 = epsilon2 + 1\n",
    "    fw = 5\n",
    "    firstValid = 0\n",
    "    \n",
    "    while True:\n",
    "        [req1, req2] = computeAlpha(Ncandidates, Nvoters, Ntests, Nsubset, alpha)\n",
    "        if req1 > epsilon1 or req2 > epsilon2:\n",
    "            alpha += 5 if firstValid == 0 else 1\n",
    "            if alpha > alphaMax:\n",
    "                raise Exception(\"Not converge.\")\n",
    "        elif firstValid == 0:\n",
    "            firstValid = alpha\n",
    "            sys.stdout.write(\"First valid: %i\" % (firstValid))\n",
    "            sys.stdout.flush()\n",
    "            alpha -= 4\n",
    "            if alpha < 0:\n",
    "                return alpha + 4\n",
    "        else:\n",
    "            return alpha\n",
    "        sys.stdout.write(\"\\rC=%i, V=%i, $\\\\alpha$ = %i, req1 = %.4f, req2 = %.4f. Try with alpha=%i.\" % (Ncandidates, Nvoters,alpha_old, error1, error2, alpha))\n",
    "        sys.stdout.flush()\n",
    "        alpha_old = alpha\n",
    "#     sys.stdout.write(\"\\n\")\n",
    "    return alpha "
   ]
  },
  {
   "cell_type": "code",
   "execution_count": 39,
   "metadata": {
    "collapsed": false
   },
   "outputs": [
    {
     "name": "stdout",
     "output_type": "stream",
     "text": [
      "C=100, V=100, $\\alpha$ = 6, req1 = 1.1000, req2 = 1.1000. Try with alpha=2.alpha = 2\n"
     ]
    }
   ],
   "source": [
    "alpha = findMinAlpha(100, 100, Ntests = 2)\n",
    "# 200, 200: 8\n",
    "# 400, 400:10\n",
    "print(\"alpha = %i\" % alpha)"
   ]
  },
  {
   "cell_type": "code",
   "execution_count": 40,
   "metadata": {
    "collapsed": false
   },
   "outputs": [
    {
     "name": "stdout",
     "output_type": "stream",
     "text": [
      "C=109, V=100, $\\alpha$ = 91, req1 = 1.1000, req2 = 1.1000. Try with alpha=96."
     ]
    },
    {
     "ename": "Exception",
     "evalue": "Not converge.",
     "output_type": "error",
     "traceback": [
      "\u001b[0;31m---------------------------------------------------------------------------\u001b[0m",
      "\u001b[0;31mException\u001b[0m                                 Traceback (most recent call last)",
      "\u001b[0;32m<ipython-input-40-c30863df34d6>\u001b[0m in \u001b[0;36m<module>\u001b[0;34m()\u001b[0m\n\u001b[1;32m      6\u001b[0m \u001b[0mminAlpha\u001b[0m \u001b[0;34m=\u001b[0m \u001b[0mnp\u001b[0m\u001b[0;34m.\u001b[0m\u001b[0mzeros\u001b[0m\u001b[0;34m(\u001b[0m\u001b[0;34m(\u001b[0m\u001b[0mlen\u001b[0m\u001b[0;34m(\u001b[0m\u001b[0mcandidates\u001b[0m\u001b[0;34m)\u001b[0m\u001b[0;34m,\u001b[0m \u001b[0mlen\u001b[0m\u001b[0;34m(\u001b[0m\u001b[0mvoters\u001b[0m\u001b[0;34m)\u001b[0m\u001b[0;34m)\u001b[0m\u001b[0;34m)\u001b[0m\u001b[0;34m\u001b[0m\u001b[0m\n\u001b[1;32m      7\u001b[0m \u001b[0;32mfor\u001b[0m \u001b[0;34m(\u001b[0m\u001b[0mi\u001b[0m\u001b[0;34m,\u001b[0m\u001b[0mj\u001b[0m\u001b[0;34m)\u001b[0m \u001b[0;32min\u001b[0m \u001b[0mitertools\u001b[0m\u001b[0;34m.\u001b[0m\u001b[0mproduct\u001b[0m\u001b[0;34m(\u001b[0m\u001b[0mrange\u001b[0m\u001b[0;34m(\u001b[0m\u001b[0mlen\u001b[0m\u001b[0;34m(\u001b[0m\u001b[0mcandidates\u001b[0m\u001b[0;34m)\u001b[0m\u001b[0;34m)\u001b[0m\u001b[0;34m,\u001b[0m \u001b[0mrange\u001b[0m\u001b[0;34m(\u001b[0m\u001b[0mlen\u001b[0m\u001b[0;34m(\u001b[0m\u001b[0mvoters\u001b[0m\u001b[0;34m)\u001b[0m\u001b[0;34m)\u001b[0m\u001b[0;34m)\u001b[0m\u001b[0;34m:\u001b[0m\u001b[0;34m\u001b[0m\u001b[0m\n\u001b[0;32m----> 8\u001b[0;31m     \u001b[0mminAlpha\u001b[0m\u001b[0;34m[\u001b[0m\u001b[0mi\u001b[0m\u001b[0;34m,\u001b[0m\u001b[0mj\u001b[0m\u001b[0;34m]\u001b[0m \u001b[0;34m=\u001b[0m \u001b[0mfindMinAlpha\u001b[0m\u001b[0;34m(\u001b[0m\u001b[0mcandidates\u001b[0m\u001b[0;34m[\u001b[0m\u001b[0mi\u001b[0m\u001b[0;34m]\u001b[0m\u001b[0;34m,\u001b[0m \u001b[0mvoters\u001b[0m\u001b[0;34m[\u001b[0m\u001b[0mj\u001b[0m\u001b[0;34m]\u001b[0m\u001b[0;34m,\u001b[0m \u001b[0mNtests\u001b[0m \u001b[0;34m=\u001b[0m \u001b[0;36m1\u001b[0m\u001b[0;34m,\u001b[0m \u001b[0mNsubset\u001b[0m \u001b[0;34m=\u001b[0m \u001b[0;36m5\u001b[0m\u001b[0;34m,\u001b[0m \u001b[0mq\u001b[0m \u001b[0;34m=\u001b[0m \u001b[0;36m1\u001b[0m\u001b[0;34m,\u001b[0m \u001b[0malphaMin\u001b[0m \u001b[0;34m=\u001b[0m \u001b[0;36m1\u001b[0m\u001b[0;34m,\u001b[0m \u001b[0mepsilon1\u001b[0m\u001b[0;34m=\u001b[0m\u001b[0;36m0.1\u001b[0m\u001b[0;34m,\u001b[0m \u001b[0mepsilon2\u001b[0m\u001b[0;34m=\u001b[0m\u001b[0;36m0.1\u001b[0m\u001b[0;34m)\u001b[0m\u001b[0;34m\u001b[0m\u001b[0m\n\u001b[0m\u001b[1;32m      9\u001b[0m \u001b[0;34m\u001b[0m\u001b[0m\n",
      "\u001b[0;32m<ipython-input-38-2c5628c8d4d4>\u001b[0m in \u001b[0;36mfindMinAlpha\u001b[0;34m(Ncandidates, Nvoters, Ntests, Nsubset, q, alphaMin, alphaMax, epsilon1, epsilon2)\u001b[0m\n\u001b[1;32m     31\u001b[0m             \u001b[0malpha\u001b[0m \u001b[0;34m+=\u001b[0m \u001b[0;36m5\u001b[0m \u001b[0;32mif\u001b[0m \u001b[0mfirstValid\u001b[0m \u001b[0;34m==\u001b[0m \u001b[0;36m0\u001b[0m \u001b[0;32melse\u001b[0m \u001b[0;36m1\u001b[0m\u001b[0;34m\u001b[0m\u001b[0m\n\u001b[1;32m     32\u001b[0m             \u001b[0;32mif\u001b[0m \u001b[0malpha\u001b[0m \u001b[0;34m>\u001b[0m \u001b[0malphaMax\u001b[0m\u001b[0;34m:\u001b[0m\u001b[0;34m\u001b[0m\u001b[0m\n\u001b[0;32m---> 33\u001b[0;31m                 \u001b[0;32mraise\u001b[0m \u001b[0mException\u001b[0m\u001b[0;34m(\u001b[0m\u001b[0;34m\"Not converge.\"\u001b[0m\u001b[0;34m)\u001b[0m\u001b[0;34m\u001b[0m\u001b[0m\n\u001b[0m\u001b[1;32m     34\u001b[0m         \u001b[0;32melif\u001b[0m \u001b[0mfirstValid\u001b[0m \u001b[0;34m==\u001b[0m \u001b[0;36m0\u001b[0m\u001b[0;34m:\u001b[0m\u001b[0;34m\u001b[0m\u001b[0m\n\u001b[1;32m     35\u001b[0m             \u001b[0mfirstValid\u001b[0m \u001b[0;34m=\u001b[0m \u001b[0malpha\u001b[0m\u001b[0;34m\u001b[0m\u001b[0m\n",
      "\u001b[0;31mException\u001b[0m: Not converge."
     ]
    }
   ],
   "source": [
    "import itertools\n",
    "candidates = range(10,110, 3)\n",
    "# Nvoters = 10000\n",
    "# q = 3000\n",
    "voters = range(100, 1000, 30)\n",
    "minAlpha = np.zeros((len(candidates), len(voters)))\n",
    "for (i,j) in itertools.product(range(len(candidates)), range(len(voters))):\n",
    "    minAlpha[i,j] = findMinAlpha(candidates[i], voters[j], Ntests = 1, Nsubset = 5, q = 1, alphaMin = 1, epsilon1=0.1, epsilon2=0.1)\n",
    "    "
   ]
  },
  {
   "cell_type": "code",
   "execution_count": 44,
   "metadata": {
    "collapsed": true
   },
   "outputs": [],
   "source": [
    "from matplotlib import cm\n",
    "fig = plt.figure()\n",
    "plt.pcolor(minAlpha[:30,:], cmap=cm.plasma)\n",
    "plt.colorbar()\n",
    "plt.xlabel('Voters')\n",
    "plt.ylabel('Candidates')\n",
    "plt.yticks(range(1,len(candidates)+1,3), candidates[::3])\n",
    "# voters = range(0,Nvoters+1,q)\n",
    "plt.xticks(range(1,len(voters)+1,1), voters[::], rotation='vertical')\n",
    "plt.show()"
   ]
  },
  {
   "cell_type": "markdown",
   "metadata": {},
   "source": [
    "## Troisième condition\n",
    "On compare les résultats du vote avec un vote jugé idéal, ie. sans triches, ou biais.\n",
    "\n",
    "Pour simuler un vote idéal, on démarre avec les résultats du jugement majoritaire d'OpinionWay/Terra Nova. En mesurant l'écart-type et la moyenne de ces résultats, on peut tirer les résultats de nouveaux candidats selon une loi gaussienne."
   ]
  },
  {
   "cell_type": "code",
   "execution_count": 46,
   "metadata": {
    "collapsed": false
   },
   "outputs": [],
   "source": [
    "def vote(lot, proba, Nsubset, Ngrades):\n",
    "    votes = np.zeros(Nsubset, dtype=int)\n",
    "    for i in range(Nsubset):\n",
    "        votes[i] = np.random.choice(range(Ngrades), size=1, replace=True, p=proba[i])\n",
    "    return votes\n",
    "\n",
    "def normalize(v, ax=1):\n",
    "    n = np.sum(v, axis=ax)\n",
    "    b = np.transpose(v)\n",
    "    c = np.divide(b,n)\n",
    "    return np.transpose(c)\n",
    "\n",
    "def tieBreaking(A, B):\n",
    "    #print str(A) + \" \" + str(B)\n",
    "    Ac = np.copy(A)\n",
    "    Bc = np.copy(B)\n",
    "    medA = argMedian(Ac)\n",
    "    medB = argMedian(Bc)\n",
    "    while medA == medB:\n",
    "        Ac[medA] -= 1\n",
    "        Bc[medB] -= 1\n",
    "        if not any(Ac):\n",
    "            return -1\n",
    "        if not any(Bc):\n",
    "            return 1 \n",
    "        medA = argMedian(Ac)\n",
    "        medB = argMedian(Bc)\n",
    "    return -1 if (medA < medB) else 1\n",
    "\n",
    "def majorityJudgment(results):\n",
    "    return sorted(range(len(results)), cmp=tieBreaking, key=results.__getitem__)\n",
    "\n",
    "def probaCandidates(Ncandidates, Ngrades, inFile):\n",
    "    \"\"\"Read inFile. If there is not enough candidates, interpolate other. Save in outFile \"\"\"\n",
    "    inCandidates = np.genfromtxt(inFile, delimiter = \" \", dtype=float)\n",
    "    inCandidates = inCandidates[:,:Ngrades]\n",
    "    Nc = len(inCandidates)\n",
    "    N  = min(Nc, Ncandidates)\n",
    "    param = np.zeros((Ngrades,2))\n",
    "    param[:,0] = np.mean(inCandidates, axis=0)\n",
    "    param[:,1] = np.std(inCandidates, axis=0)\n",
    "    np.random.shuffle(inCandidates)\n",
    "    outCandidates = np.zeros((Ncandidates,Ngrades))\n",
    "    outCandidates[:N] = inCandidates[:N,:]\n",
    "    if Ncandidates > Nc:\n",
    "        for i in range(Ngrades):\n",
    "            outCandidates[N:,i] = np.random.normal(param[i,0], param[i,1], Ncandidates-Nc)\n",
    "    return normalize(np.absolute(outCandidates))\n",
    "\n",
    "def argMedian(A):\n",
    "    Ngrades = len(A)\n",
    "    s   = np.array([sum(A[:i+1]) for i in range(Ngrades)])\n",
    "    mid = float(s[Ngrades-1])/2\n",
    "    return np.argwhere(mid < s)[0][0]\n",
    "        \n",
    "\n",
    "def rankError(rk_priori, rk_post, N):\n",
    "    rk  = np.concatenate((rk_priori[:N], rk_post[:N]))\n",
    "    return len(set(rk)) - N"
   ]
  },
  {
   "cell_type": "markdown",
   "metadata": {},
   "source": [
    "Comme avec **findMinAlpha**, **findMinNvoters** cherche itérativement le nombre minimal d'électeurs qui permenttent d'atteindre $\\epsilon_3$."
   ]
  },
  {
   "cell_type": "code",
   "execution_count": 90,
   "metadata": {
    "collapsed": false
   },
   "outputs": [],
   "source": [
    "def findMinNvoters(Ncandidates, maxError = 0.1, Ntests = 100, Nwinners = 10, Nsubset = 5, Ngrades = 5, q = 1000, alpha = 1, real_results = \"terranova.txt\", epsilon=0.0):\n",
    "    if epsilon == 0.0:\n",
    "        epsilon = maxError/10 # not implemented yet\n",
    "    maxTests = Ntests # max number of tests\n",
    "    Nvoters = 0\n",
    "    Nvoters_old = 0\n",
    "    Nwinners = min(Nwinners, Ncandidates)\n",
    "    errors = (maxError + 1)*np.ones(Nwinners)\n",
    "    minNvoters = np.zeros(Nwinners)\n",
    "    \n",
    "    \n",
    "    # perfect election\n",
    "    pr_priori = probaCandidates(Ncandidates, Ngrades, real_results)\n",
    "    res_priori = np.trunc(pr_priori*1000)\n",
    "    rk_priori = majorityJudgment(res_priori)\n",
    "\n",
    "    # election with random sets\n",
    "    raw = np.zeros((Ntests, Ncandidates,Ngrades))\n",
    "    occurrence = np.zeros((Ntests, Ncandidates))\n",
    "    while np.any(minNvoters == 0):\n",
    "        Nvoters += q\n",
    "        sys.stdout.write(\"\\r%i voters is too low (%.4f > %.4f). Try with %i voters.\" % (Nvoters_old, error, maxError, Nvoters))\n",
    "        sys.stdout.flush()\n",
    "        err_samples = np.zeros((Ntests, Nwinners), dtype=int)\n",
    "        for t in range(Ntests):\n",
    "#             sys.stdout.write(\"\\rTest: %i/%i (%i %%)\" % (t+1, Ntests, float(t)/float(Ntests)*100.0))\n",
    "            for i in range(Nvoters_old, Nvoters+1):\n",
    "                lot     = subset(Ncandidates, Nsubset, occurrence[t], alpha)\n",
    "                votes   = vote(lot, pr_priori[lot,:], Nsubset, Ngrades)\n",
    "                raw[t,lot,votes] += 1\n",
    "            results = normalize(raw[t])\n",
    "            rk      = majorityJudgment(raw[t])\n",
    "            err_samples[t,:] = [np.array(rankError(rk_priori, rk, Nwinner),dtype=float) for Nwinner in range(1,Nwinners+1)]\n",
    "        errors = np.mean(err_samples, axis=0)\n",
    "        minNvoters[(errors < maxError) & (minNvoters == 0)] = Nvoters# if error_test[i] and minNvoters == 0 else 0]\n",
    "        Nvoters_old = Nvoters\n",
    "    return minNvoters "
   ]
  },
  {
   "cell_type": "code",
   "execution_count": 95,
   "metadata": {
    "collapsed": false
   },
   "outputs": [
    {
     "name": "stdout",
     "output_type": "stream",
     "text": [
      "12000 voters is too low (0.0000 > 0.1000). Try with 13000 voters.\n",
      "C 10 \n",
      "[  2000.   1000.   3000.   2000.   1000.   1000.   5000.   3000.  13000.\n",
      "   1000.]\n",
      "130000 voters is too low (0.0000 > 0.1000). Try with 131000 voters."
     ]
    },
    {
     "ename": "KeyboardInterrupt",
     "evalue": "",
     "output_type": "error",
     "traceback": [
      "\u001b[0;31m---------------------------------------------------------------------------\u001b[0m",
      "\u001b[0;31mKeyboardInterrupt\u001b[0m                         Traceback (most recent call last)",
      "\u001b[0;32m<ipython-input-95-f955f2e9115d>\u001b[0m in \u001b[0;36m<module>\u001b[0;34m()\u001b[0m\n\u001b[1;32m      4\u001b[0m \u001b[0mminNvoters\u001b[0m \u001b[0;34m=\u001b[0m \u001b[0mnp\u001b[0m\u001b[0;34m.\u001b[0m\u001b[0mzeros\u001b[0m\u001b[0;34m(\u001b[0m\u001b[0;34m(\u001b[0m\u001b[0mlen\u001b[0m\u001b[0;34m(\u001b[0m\u001b[0mcandidates\u001b[0m\u001b[0;34m)\u001b[0m\u001b[0;34m,\u001b[0m \u001b[0mNwinners\u001b[0m\u001b[0;34m)\u001b[0m\u001b[0;34m)\u001b[0m\u001b[0;34m\u001b[0m\u001b[0m\n\u001b[1;32m      5\u001b[0m \u001b[0;32mfor\u001b[0m \u001b[0mi\u001b[0m \u001b[0;32min\u001b[0m \u001b[0mrange\u001b[0m\u001b[0;34m(\u001b[0m\u001b[0mlen\u001b[0m\u001b[0;34m(\u001b[0m\u001b[0mcandidates\u001b[0m\u001b[0;34m)\u001b[0m\u001b[0;34m)\u001b[0m\u001b[0;34m:\u001b[0m\u001b[0;34m\u001b[0m\u001b[0m\n\u001b[0;32m----> 6\u001b[0;31m     \u001b[0mminNvoters\u001b[0m\u001b[0;34m[\u001b[0m\u001b[0mi\u001b[0m\u001b[0;34m,\u001b[0m\u001b[0;34m:\u001b[0m\u001b[0;34m]\u001b[0m \u001b[0;34m=\u001b[0m \u001b[0mfindMinNvoters\u001b[0m\u001b[0;34m(\u001b[0m\u001b[0mcandidates\u001b[0m\u001b[0;34m[\u001b[0m\u001b[0mi\u001b[0m\u001b[0;34m]\u001b[0m\u001b[0;34m,\u001b[0m \u001b[0mq\u001b[0m \u001b[0;34m=\u001b[0m\u001b[0;36m1000\u001b[0m\u001b[0;34m,\u001b[0m \u001b[0mNwinners\u001b[0m \u001b[0;34m=\u001b[0m \u001b[0mNwinners\u001b[0m\u001b[0;34m,\u001b[0m \u001b[0mNtests\u001b[0m \u001b[0;34m=\u001b[0m \u001b[0;36m10\u001b[0m\u001b[0;34m)\u001b[0m\u001b[0;34m\u001b[0m\u001b[0m\n\u001b[0m\u001b[1;32m      7\u001b[0m     \u001b[0;32mprint\u001b[0m \u001b[0;34m\"\\nC %i \"\u001b[0m \u001b[0;34m%\u001b[0m \u001b[0mcandidates\u001b[0m\u001b[0;34m[\u001b[0m\u001b[0mi\u001b[0m\u001b[0;34m]\u001b[0m\u001b[0;34m\u001b[0m\u001b[0m\n\u001b[1;32m      8\u001b[0m     \u001b[0;32mprint\u001b[0m \u001b[0mminNvoters\u001b[0m\u001b[0;34m[\u001b[0m\u001b[0mi\u001b[0m\u001b[0;34m,\u001b[0m\u001b[0;34m:\u001b[0m\u001b[0;34m]\u001b[0m\u001b[0;34m\u001b[0m\u001b[0m\n",
      "\u001b[0;32m<ipython-input-90-cab003383dcf>\u001b[0m in \u001b[0;36mfindMinNvoters\u001b[0;34m(Ncandidates, maxError, Ntests, Nwinners, Nsubset, Ngrades, q, alpha, real_results, epsilon)\u001b[0m\n\u001b[1;32m     30\u001b[0m                 \u001b[0mraw\u001b[0m\u001b[0;34m[\u001b[0m\u001b[0mt\u001b[0m\u001b[0;34m,\u001b[0m\u001b[0mlot\u001b[0m\u001b[0;34m,\u001b[0m\u001b[0mvotes\u001b[0m\u001b[0;34m]\u001b[0m \u001b[0;34m+=\u001b[0m \u001b[0;36m1\u001b[0m\u001b[0;34m\u001b[0m\u001b[0m\n\u001b[1;32m     31\u001b[0m             \u001b[0mresults\u001b[0m \u001b[0;34m=\u001b[0m \u001b[0mnormalize\u001b[0m\u001b[0;34m(\u001b[0m\u001b[0mraw\u001b[0m\u001b[0;34m[\u001b[0m\u001b[0mt\u001b[0m\u001b[0;34m]\u001b[0m\u001b[0;34m)\u001b[0m\u001b[0;34m\u001b[0m\u001b[0m\n\u001b[0;32m---> 32\u001b[0;31m             \u001b[0mrk\u001b[0m      \u001b[0;34m=\u001b[0m \u001b[0mmajorityJudgment\u001b[0m\u001b[0;34m(\u001b[0m\u001b[0mraw\u001b[0m\u001b[0;34m[\u001b[0m\u001b[0mt\u001b[0m\u001b[0;34m]\u001b[0m\u001b[0;34m)\u001b[0m\u001b[0;34m\u001b[0m\u001b[0m\n\u001b[0m\u001b[1;32m     33\u001b[0m             \u001b[0merr_samples\u001b[0m\u001b[0;34m[\u001b[0m\u001b[0mt\u001b[0m\u001b[0;34m,\u001b[0m\u001b[0;34m:\u001b[0m\u001b[0;34m]\u001b[0m \u001b[0;34m=\u001b[0m \u001b[0;34m[\u001b[0m\u001b[0mnp\u001b[0m\u001b[0;34m.\u001b[0m\u001b[0marray\u001b[0m\u001b[0;34m(\u001b[0m\u001b[0mrankError\u001b[0m\u001b[0;34m(\u001b[0m\u001b[0mrk_priori\u001b[0m\u001b[0;34m,\u001b[0m \u001b[0mrk\u001b[0m\u001b[0;34m,\u001b[0m \u001b[0mNwinner\u001b[0m\u001b[0;34m)\u001b[0m\u001b[0;34m,\u001b[0m\u001b[0mdtype\u001b[0m\u001b[0;34m=\u001b[0m\u001b[0mfloat\u001b[0m\u001b[0;34m)\u001b[0m \u001b[0;32mfor\u001b[0m \u001b[0mNwinner\u001b[0m \u001b[0;32min\u001b[0m \u001b[0mrange\u001b[0m\u001b[0;34m(\u001b[0m\u001b[0;36m1\u001b[0m\u001b[0;34m,\u001b[0m\u001b[0mNwinners\u001b[0m\u001b[0;34m+\u001b[0m\u001b[0;36m1\u001b[0m\u001b[0;34m)\u001b[0m\u001b[0;34m]\u001b[0m\u001b[0;34m\u001b[0m\u001b[0m\n\u001b[1;32m     34\u001b[0m         \u001b[0merrors\u001b[0m \u001b[0;34m=\u001b[0m \u001b[0mnp\u001b[0m\u001b[0;34m.\u001b[0m\u001b[0mmean\u001b[0m\u001b[0;34m(\u001b[0m\u001b[0merr_samples\u001b[0m\u001b[0;34m,\u001b[0m \u001b[0maxis\u001b[0m\u001b[0;34m=\u001b[0m\u001b[0;36m0\u001b[0m\u001b[0;34m)\u001b[0m\u001b[0;34m\u001b[0m\u001b[0m\n",
      "\u001b[0;32m<ipython-input-46-a2832cb476a2>\u001b[0m in \u001b[0;36mmajorityJudgment\u001b[0;34m(results)\u001b[0m\n\u001b[1;32m     29\u001b[0m \u001b[0;34m\u001b[0m\u001b[0m\n\u001b[1;32m     30\u001b[0m \u001b[0;32mdef\u001b[0m \u001b[0mmajorityJudgment\u001b[0m\u001b[0;34m(\u001b[0m\u001b[0mresults\u001b[0m\u001b[0;34m)\u001b[0m\u001b[0;34m:\u001b[0m\u001b[0;34m\u001b[0m\u001b[0m\n\u001b[0;32m---> 31\u001b[0;31m     \u001b[0;32mreturn\u001b[0m \u001b[0msorted\u001b[0m\u001b[0;34m(\u001b[0m\u001b[0mrange\u001b[0m\u001b[0;34m(\u001b[0m\u001b[0mlen\u001b[0m\u001b[0;34m(\u001b[0m\u001b[0mresults\u001b[0m\u001b[0;34m)\u001b[0m\u001b[0;34m)\u001b[0m\u001b[0;34m,\u001b[0m \u001b[0mcmp\u001b[0m\u001b[0;34m=\u001b[0m\u001b[0mtieBreaking\u001b[0m\u001b[0;34m,\u001b[0m \u001b[0mkey\u001b[0m\u001b[0;34m=\u001b[0m\u001b[0mresults\u001b[0m\u001b[0;34m.\u001b[0m\u001b[0m__getitem__\u001b[0m\u001b[0;34m)\u001b[0m\u001b[0;34m\u001b[0m\u001b[0m\n\u001b[0m\u001b[1;32m     32\u001b[0m \u001b[0;34m\u001b[0m\u001b[0m\n\u001b[1;32m     33\u001b[0m \u001b[0;32mdef\u001b[0m \u001b[0mprobaCandidates\u001b[0m\u001b[0;34m(\u001b[0m\u001b[0mNcandidates\u001b[0m\u001b[0;34m,\u001b[0m \u001b[0mNgrades\u001b[0m\u001b[0;34m,\u001b[0m \u001b[0minFile\u001b[0m\u001b[0;34m)\u001b[0m\u001b[0;34m:\u001b[0m\u001b[0;34m\u001b[0m\u001b[0m\n",
      "\u001b[0;32m<ipython-input-46-a2832cb476a2>\u001b[0m in \u001b[0;36mtieBreaking\u001b[0;34m(A, B)\u001b[0m\n\u001b[1;32m     25\u001b[0m             \u001b[0;32mreturn\u001b[0m \u001b[0;36m1\u001b[0m\u001b[0;34m\u001b[0m\u001b[0m\n\u001b[1;32m     26\u001b[0m         \u001b[0mmedA\u001b[0m \u001b[0;34m=\u001b[0m \u001b[0margMedian\u001b[0m\u001b[0;34m(\u001b[0m\u001b[0mAc\u001b[0m\u001b[0;34m)\u001b[0m\u001b[0;34m\u001b[0m\u001b[0m\n\u001b[0;32m---> 27\u001b[0;31m         \u001b[0mmedB\u001b[0m \u001b[0;34m=\u001b[0m \u001b[0margMedian\u001b[0m\u001b[0;34m(\u001b[0m\u001b[0mBc\u001b[0m\u001b[0;34m)\u001b[0m\u001b[0;34m\u001b[0m\u001b[0m\n\u001b[0m\u001b[1;32m     28\u001b[0m     \u001b[0;32mreturn\u001b[0m \u001b[0;34m-\u001b[0m\u001b[0;36m1\u001b[0m \u001b[0;32mif\u001b[0m \u001b[0;34m(\u001b[0m\u001b[0mmedA\u001b[0m \u001b[0;34m<\u001b[0m \u001b[0mmedB\u001b[0m\u001b[0;34m)\u001b[0m \u001b[0;32melse\u001b[0m \u001b[0;36m1\u001b[0m\u001b[0;34m\u001b[0m\u001b[0m\n\u001b[1;32m     29\u001b[0m \u001b[0;34m\u001b[0m\u001b[0m\n",
      "\u001b[0;32m<ipython-input-46-a2832cb476a2>\u001b[0m in \u001b[0;36margMedian\u001b[0;34m(A)\u001b[0m\n\u001b[1;32m     50\u001b[0m \u001b[0;32mdef\u001b[0m \u001b[0margMedian\u001b[0m\u001b[0;34m(\u001b[0m\u001b[0mA\u001b[0m\u001b[0;34m)\u001b[0m\u001b[0;34m:\u001b[0m\u001b[0;34m\u001b[0m\u001b[0m\n\u001b[1;32m     51\u001b[0m     \u001b[0mNgrades\u001b[0m \u001b[0;34m=\u001b[0m \u001b[0mlen\u001b[0m\u001b[0;34m(\u001b[0m\u001b[0mA\u001b[0m\u001b[0;34m)\u001b[0m\u001b[0;34m\u001b[0m\u001b[0m\n\u001b[0;32m---> 52\u001b[0;31m     \u001b[0ms\u001b[0m   \u001b[0;34m=\u001b[0m \u001b[0mnp\u001b[0m\u001b[0;34m.\u001b[0m\u001b[0marray\u001b[0m\u001b[0;34m(\u001b[0m\u001b[0;34m[\u001b[0m\u001b[0msum\u001b[0m\u001b[0;34m(\u001b[0m\u001b[0mA\u001b[0m\u001b[0;34m[\u001b[0m\u001b[0;34m:\u001b[0m\u001b[0mi\u001b[0m\u001b[0;34m+\u001b[0m\u001b[0;36m1\u001b[0m\u001b[0;34m]\u001b[0m\u001b[0;34m)\u001b[0m \u001b[0;32mfor\u001b[0m \u001b[0mi\u001b[0m \u001b[0;32min\u001b[0m \u001b[0mrange\u001b[0m\u001b[0;34m(\u001b[0m\u001b[0mNgrades\u001b[0m\u001b[0;34m)\u001b[0m\u001b[0;34m]\u001b[0m\u001b[0;34m)\u001b[0m\u001b[0;34m\u001b[0m\u001b[0m\n\u001b[0m\u001b[1;32m     53\u001b[0m     \u001b[0mmid\u001b[0m \u001b[0;34m=\u001b[0m \u001b[0mfloat\u001b[0m\u001b[0;34m(\u001b[0m\u001b[0ms\u001b[0m\u001b[0;34m[\u001b[0m\u001b[0mNgrades\u001b[0m\u001b[0;34m-\u001b[0m\u001b[0;36m1\u001b[0m\u001b[0;34m]\u001b[0m\u001b[0;34m)\u001b[0m\u001b[0;34m/\u001b[0m\u001b[0;36m2\u001b[0m\u001b[0;34m\u001b[0m\u001b[0m\n\u001b[1;32m     54\u001b[0m     \u001b[0;32mreturn\u001b[0m \u001b[0mnp\u001b[0m\u001b[0;34m.\u001b[0m\u001b[0margwhere\u001b[0m\u001b[0;34m(\u001b[0m\u001b[0mmid\u001b[0m \u001b[0;34m<\u001b[0m \u001b[0ms\u001b[0m\u001b[0;34m)\u001b[0m\u001b[0;34m[\u001b[0m\u001b[0;36m0\u001b[0m\u001b[0;34m]\u001b[0m\u001b[0;34m[\u001b[0m\u001b[0;36m0\u001b[0m\u001b[0;34m]\u001b[0m\u001b[0;34m\u001b[0m\u001b[0m\n",
      "\u001b[0;31mKeyboardInterrupt\u001b[0m: "
     ]
    }
   ],
   "source": [
    "import itertools\n",
    "candidates = range(10,110, 10)\n",
    "Nwinners = 10\n",
    "minNvoters = np.zeros((len(candidates), Nwinners))\n",
    "for i in range(len(candidates)):\n",
    "    print \"C %i \" % candidates[i]\n",
    "    minNvoters[i,:] = findMinNvoters(candidates[i], q =1000, Nwinners = Nwinners, Ntests = 10)\n",
    "\n",
    "    print minNvoters[i,:]\n",
    "print minNvoters"
   ]
  },
  {
   "cell_type": "code",
   "execution_count": 94,
   "metadata": {
    "collapsed": false
   },
   "outputs": [],
   "source": [
    "for j in range(len(candidates)):\n",
    "    plt.plot(range(1,Nwinners+1), minNvoters[j,:],label=\"Nc = %i\" % candidates[j])\n",
    "plt.xlabel(\"Number of winners\")\n",
    "plt.ylabel(\"Minimal number of voters\")\n",
    "plt.legend()\n",
    "plt.show()"
   ]
  },
  {
   "cell_type": "code",
   "execution_count": 68,
   "metadata": {
    "collapsed": false
   },
   "outputs": [
    {
     "name": "stdout",
     "output_type": "stream",
     "text": [
      "7000 voters is too low (0.5000 > 0.1000). Try with 8000 voters.[8000]\n"
     ]
    }
   ],
   "source": [
    "Nwinners = [1]#range(1,5)\n",
    "minNvoters_Nwinners = [findMinNvoters(1000, q =1000, Nwinner = i, Ntests = 2) for i in Nwinners]\n",
    "print minNvoters_Nwinners"
   ]
  },
  {
   "cell_type": "markdown",
   "metadata": {},
   "source": [
    "Ou, selon les paramètres du vote, on peut calculer l'erreur moyenne du vote avec **computeError**"
   ]
  },
  {
   "cell_type": "code",
   "execution_count": null,
   "metadata": {
    "collapsed": true
   },
   "outputs": [],
   "source": [
    "def computeReq3(Ncandidates, Nvoters, maxError = 0.1, Nwinner = 1, Nsubset = 5, Ngrades = 5, alpha = 1, real_results = \"terranova.txt\", epsilon=0.0):\n",
    "    if epsilon == 0.0:\n",
    "        epsilon = maxError/10 # not implemented yet\n",
    "    maxTests = 200 # max number of tests\n",
    "    \n",
    "    # perfect election\n",
    "    pr_priori = probaCandidates(Ncandidates, Ngrades, real_results)\n",
    "    res_priori = np.trunc(pr_priori*1000)\n",
    "    rk_priori = majorityJudgment(res_priori)\n",
    "\n",
    "    # election with random sets\n",
    "    raw = np.zeros((maxTests, Ncandidates,Ngrades))\n",
    "    occurrence = np.zeros((maxTests, Ncandidates))\n",
    "    err_samples = np.zeros(maxTests, dtype=int)\n",
    "    for t in range(maxTests):\n",
    "        for i in range(Nvoters+1):\n",
    "            lot     = subset(Ncandidates, Nsubset, occurrence[t], alpha)\n",
    "            votes   = vote(lot, pr_priori[lot,:], Nsubset, Ngrades)\n",
    "            raw[t,lot,votes] += 1\n",
    "        results = normalize(raw[t])\n",
    "        rk      = majorityJudgment(raw[t])\n",
    "        err_samples[t] = rankError(rk_priori, rk, Nwinner)\n",
    "    return np.mean(err_samples, axis=0)"
   ]
  },
  {
   "cell_type": "code",
   "execution_count": null,
   "metadata": {
    "collapsed": false
   },
   "outputs": [],
   "source": [
    "print computeError(12, 10000, Nwinner = 5) #LaPrimaire.org"
   ]
  }
 ],
 "metadata": {
  "kernelspec": {
   "display_name": "Python 2",
   "language": "python",
   "name": "python2"
  },
  "language_info": {
   "codemirror_mode": {
    "name": "ipython",
    "version": 2
   },
   "file_extension": ".py",
   "mimetype": "text/x-python",
   "name": "python",
   "nbconvert_exporter": "python",
   "pygments_lexer": "ipython2",
   "version": "2.7.10"
  }
 },
 "nbformat": 4,
 "nbformat_minor": 1
}
